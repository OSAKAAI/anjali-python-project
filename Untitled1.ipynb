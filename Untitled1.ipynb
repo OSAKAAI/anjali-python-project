{
  "nbformat": 4,
  "nbformat_minor": 0,
  "metadata": {
    "colab": {
      "provenance": [],
      "authorship_tag": "ABX9TyOr2aqT1YySDafb3ull2DT3",
      "include_colab_link": true
    },
    "kernelspec": {
      "name": "python3",
      "display_name": "Python 3"
    },
    "language_info": {
      "name": "python"
    }
  },
  "cells": [
    {
      "cell_type": "markdown",
      "metadata": {
        "id": "view-in-github",
        "colab_type": "text"
      },
      "source": [
        "<a href=\"https://colab.research.google.com/github/OSAKAAI/anjali-python-project/blob/main/Untitled1.ipynb\" target=\"_parent\"><img src=\"https://colab.research.google.com/assets/colab-badge.svg\" alt=\"Open In Colab\"/></a>"
      ]
    },
    {
      "cell_type": "code",
      "execution_count": 1,
      "metadata": {
        "colab": {
          "base_uri": "https://localhost:8080/"
        },
        "id": "OPSmQQDYHm1L",
        "outputId": "047f8fa3-5836-4329-8f75-69c4b998f369"
      },
      "outputs": [
        {
          "output_type": "stream",
          "name": "stdout",
          "text": [
            "Welcome to the Guess the Car Price game!\n",
            "You need to guess the price of a Honda Civic\n",
            "Enter your guess for the price: $20000\n",
            "Too low! Try again.\n",
            "Enter your guess for the price: $21000\n",
            "Too low! Try again.\n",
            "Enter your guess for the price: $22000\n",
            "Congratulations! You guessed the correct price of $ 22000\n",
            "It took you 3 attempts.\n"
          ]
        }
      ],
      "source": [
        "import random\n",
        "\n",
        "def guess_car_price():\n",
        "    car_prices = {'Toyota Camry': 25000, 'Honda Civic': 22000, 'Ford Mustang': 35000, 'Chevrolet Silverado': 40000, 'BMW 3 Series': 45000}\n",
        "    car_model = random.choice(list(car_prices.keys()))\n",
        "    actual_price = car_prices[car_model]\n",
        "\n",
        "    print(\"Welcome to the Guess the Car Price game!\")\n",
        "    print(\"You need to guess the price of a\", car_model)\n",
        "\n",
        "    attempts = 0\n",
        "    while True:\n",
        "        guess = int(input(\"Enter your guess for the price: $\"))\n",
        "        attempts += 1\n",
        "\n",
        "        if guess < actual_price:\n",
        "            print(\"Too low! Try again.\")\n",
        "        elif guess > actual_price:\n",
        "            print(\"Too high! Try again.\")\n",
        "        else:\n",
        "            print(\"Congratulations! You guessed the correct price of $\", actual_price)\n",
        "            print(\"It took you\", attempts, \"attempts.\")\n",
        "            break\n",
        "\n",
        "# Example usage:\n",
        "guess_car_price()"
      ]
    }
  ]
}